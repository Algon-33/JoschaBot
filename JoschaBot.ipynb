{
 "cells": [
  {
   "cell_type": "code",
   "execution_count": null,
   "id": "75d3102b-1310-49a8-a414-7f32a2f65fed",
   "metadata": {},
   "outputs": [],
   "source": [
    "import os\n",
    "os.chdir('C:\\\\Users\\\\Ali\\\\Documents\\\\Python Scripts\\\\')\n",
    "os.getcwd()\n"
   ]
  },
  {
   "cell_type": "code",
   "execution_count": 6,
   "id": "9fe9c404",
   "metadata": {},
   "outputs": [],
   "source": [
    "import bs4\n",
    "import selenium as se\n",
    "import requests as re\n",
    "import tweepy"
   ]
  },
  {
   "cell_type": "code",
   "execution_count": 2,
   "id": "6cbfd992",
   "metadata": {},
   "outputs": [],
   "source": [
    "URL = \"https://twitter.com/Plinz/status/1601066682214010880\"\n",
    "response = re.get(URL)\n",
    "soup = bs4.BeautifulSoup(response.content, \"html.parser\")"
   ]
  },
  {
   "cell_type": "code",
   "execution_count": 4,
   "id": "95f1d013",
   "metadata": {},
   "outputs": [
    {
     "ename": "ModuleNotFoundError",
     "evalue": "No module named 'requests_oauthlib'",
     "output_type": "error",
     "traceback": [
      "\u001b[1;31m---------------------------------------------------------------------------\u001b[0m",
      "\u001b[1;31mModuleNotFoundError\u001b[0m                       Traceback (most recent call last)",
      "Cell \u001b[1;32mIn [4], line 1\u001b[0m\n\u001b[1;32m----> 1\u001b[0m \u001b[38;5;28;01mfrom\u001b[39;00m \u001b[38;5;21;01mrequests_oauthlib\u001b[39;00m \u001b[38;5;28;01mimport\u001b[39;00m OAuth1Session\n",
      "\u001b[1;31mModuleNotFoundError\u001b[0m: No module named 'requests_oauthlib'"
     ]
    }
   ],
   "source": [
    "from requests_oauthlib import OAuth1Session"
   ]
  },
  {
   "cell_type": "code",
   "execution_count": 8,
   "id": "9fd173d3",
   "metadata": {},
   "outputs": [],
   "source": [
    "TWITTER_API_KEY=\"TOgCMOMp1HfWYrvbNIFJEB6c3\"\n",
    "TWITTER_API_KEY_SECRET = \"hK03IKGjqpfjRgH58S2xZK3JmkrASgE3uZHBbVcyPUTesLOK32\"\n",
    "BEARER_Token = \"AAAAAAAAAAAAAAAAAAAAANANkQEAAAAApsPkVg6i0Lvuj0qSu8gvnfdUBrU%3DgiLuUgvtb1o2RfELKw1GiF4FGQWCYCvKDZwgGBDpC0qqdg0xcq\"\n",
    "ACCESS_TOKEN = \"2348170244-ABBLnytMDZdmz9mdFO3qzuN82mY3pOBpAIZ4HbK\"\n",
    "ACCESS_TOKEN_SECRET = \"DoZBfthtRwLV60fWKIWznKzVx2tWmQlbTtCB1pHApOv0g\""
   ]
  },
  {
   "cell_type": "code",
   "execution_count": 9,
   "id": "5d7ab6c7-1988-4582-a51d-974c1fd9cfcb",
   "metadata": {},
   "outputs": [],
   "source": [
    "auth = tweepy.OAuthHandler(TWITTER_API_KEY,TWITTER_API_KEY_SECRET)\n",
    "auth.set_access_token(ACCESS_TOKEN, ACCESS_TOKEN_SECRET)\n",
    "api = tweepy.API(auth)"
   ]
  },
  {
   "cell_type": "code",
   "execution_count": null,
   "id": "db0e3ff0-f9d4-4472-806d-12132ea59c9d",
   "metadata": {},
   "outputs": [],
   "source": [
    "user = api.get_user(screen_name = \"Plinz\")\n",
    "tweets = api.user_timeline(screen_name = \"Plinz\")"
   ]
  },
  {
   "cell_type": "code",
   "execution_count": 194,
   "id": "6f29bfce-4b87-42e5-813f-455b4607f08b",
   "metadata": {},
   "outputs": [],
   "source": [
    "def tweet_chain(tweet =None, tweet_id = None):\n",
    "    if tweet_id !=None and tweet ==None:\n",
    "        tweet = api.get_status(tweet_id)\n",
    "    if tweet.in_reply_to_status_id_str !=None:\n",
    "        data = []\n",
    "        max_depth = 20;\n",
    "        i = 0\n",
    "        data.append([tweet.id_str, tweet.created_at, tweet.user.screen_name, tweet.text,tweet.favorite_count, tweet.retweet_count])\n",
    "        while i< max_depth and tweet.in_reply_to_status_id_str !=None:\n",
    "            try:\n",
    "                next_tweet = api.get_status(tweet.in_reply_to_status_id_str)\n",
    "                data.append([next_tweet.id_str, next_tweet.created_at, next_tweet.user.screen_name, next_tweet.text, next_tweet.favorite_count, next_tweet.retweet_count,])            \n",
    "                tweet = next_tweet\n",
    "            except Exception as e:\n",
    "                data.append([tweet.in_reply_to_status_id_str, None, None, \"This Tweet was deleted\", None, None])\n",
    "                #print(e)\n",
    "                print(i)\n",
    "                #print(tweet.id)\n",
    "                \n",
    "            i+=1\n",
    "            \n",
    "        return data\n",
    "    else:\n",
    "        return [[tweet.id_str, tweet.created_at, tweet.user.screen_name, tweet.text, tweet.favorite_count, tweet.retweet_count]]\n",
    "    "
   ]
  },
  {
   "cell_type": "code",
   "execution_count": 159,
   "id": "311829cd-ee5e-454e-a493-6631dbd0e602",
   "metadata": {},
   "outputs": [
    {
     "name": "stdout",
     "output_type": "stream",
     "text": [
      "0\n"
     ]
    }
   ],
   "source": [
    "i=0\n",
    "while i<2:\n",
    "    try:\n",
    "        assert False\n",
    "    except:\n",
    "        print(i)\n",
    "        break\n",
    "        \n",
    "    i+=1"
   ]
  },
  {
   "cell_type": "code",
   "execution_count": 66,
   "id": "64fd392c-0391-460d-b9a5-949415e18479",
   "metadata": {},
   "outputs": [],
   "source": [
    "def get_user_tweets(user_name, limit):\n",
    "    #Joscha Bach's ID\n",
    "    #user_name = 'Plinz'\n",
    "    # Set the limit of number of records\n",
    "    #limit=10000\n",
    "\n",
    "    # Search using pagination\n",
    "    tweets = tweepy.Cursor(api.user_timeline, screen_name=user_name, tweet_mode='extended').items(limit)\n",
    "    return tweets\n",
    "    \n",
    "    # Create columns for the DataFrame\n",
    "    #columns = ['Time', 'User', 'Tweet']\n",
    "    #data = []\n",
    "    \n",
    "    # Iterate through the results and append them to the list\n",
    "    #for tweet in tweets:\n",
    "    #    Bool = tweet.in_reply_to_status_id !=None   \n",
    "    #    data.append([tweet.id_str, tweet.created_at, tweet.user.screen_name, tweet.full_text, Bool,tweet.in_reply_to_status_id_str,  tweet.in_reply_to_user_id_str])\n",
    "    \n",
    "    # Create a dataframe with the results\n",
    "    #df = pd.DataFrame(data, columns=columns)\n",
    "\n",
    "    #print(df)"
   ]
  },
  {
   "cell_type": "code",
   "execution_count": 156,
   "id": "1461acc5-ad79-44b6-bdf5-44faacc9b684",
   "metadata": {},
   "outputs": [
    {
     "data": {
      "text/plain": [
       "61"
      ]
     },
     "execution_count": 156,
     "metadata": {},
     "output_type": "execute_result"
    }
   ],
   "source": [
    "len(cleaned_data)"
   ]
  },
  {
   "cell_type": "code",
   "execution_count": 200,
   "id": "6d4e6085-1961-4c6d-be79-a4d54ad4226c",
   "metadata": {},
   "outputs": [
    {
     "name": "stdout",
     "output_type": "stream",
     "text": [
      "0\n",
      "1\n",
      "2\n",
      "3\n",
      "4\n",
      "5\n",
      "6\n",
      "7\n",
      "8\n",
      "9\n",
      "10\n",
      "11\n",
      "12\n",
      "13\n",
      "14\n",
      "15\n",
      "16\n",
      "17\n",
      "18\n",
      "19\n",
      "2\n",
      "3\n",
      "4\n",
      "5\n",
      "6\n",
      "7\n",
      "8\n",
      "9\n",
      "10\n",
      "11\n",
      "12\n",
      "13\n",
      "14\n",
      "15\n",
      "16\n",
      "17\n",
      "18\n",
      "19\n",
      "0\n",
      "1\n",
      "2\n",
      "3\n",
      "4\n",
      "5\n",
      "6\n",
      "7\n",
      "8\n",
      "9\n",
      "10\n",
      "11\n",
      "12\n",
      "13\n",
      "14\n",
      "15\n",
      "16\n",
      "17\n",
      "18\n",
      "19\n",
      "2\n",
      "3\n",
      "4\n",
      "5\n",
      "6\n",
      "7\n",
      "8\n",
      "9\n",
      "10\n",
      "11\n",
      "12\n",
      "13\n",
      "14\n",
      "15\n",
      "16\n",
      "17\n",
      "18\n",
      "19\n"
     ]
    },
    {
     "ename": "TooManyRequests",
     "evalue": "429 Too Many Requests\n88 - Rate limit exceeded",
     "output_type": "error",
     "traceback": [
      "\u001b[1;31m---------------------------------------------------------------------------\u001b[0m",
      "\u001b[1;31mTooManyRequests\u001b[0m                           Traceback (most recent call last)",
      "Cell \u001b[1;32mIn [200], line 3\u001b[0m\n\u001b[0;32m      1\u001b[0m cleaned_data \u001b[38;5;241m=\u001b[39m []\n\u001b[0;32m      2\u001b[0m \u001b[38;5;28;01mfor\u001b[39;00m i \u001b[38;5;129;01min\u001b[39;00m data:\n\u001b[1;32m----> 3\u001b[0m     cleaned_data\u001b[38;5;241m.\u001b[39mappend(\u001b[43mtweet_chain\u001b[49m\u001b[43m(\u001b[49m\u001b[43m \u001b[49m\u001b[43mtweet_id\u001b[49m\u001b[43m \u001b[49m\u001b[38;5;241;43m=\u001b[39;49m\u001b[43m \u001b[49m\u001b[43mi\u001b[49m\u001b[43m[\u001b[49m\u001b[38;5;241;43m0\u001b[39;49m\u001b[43m]\u001b[49m\u001b[43m)\u001b[49m )\n",
      "Cell \u001b[1;32mIn [194], line 3\u001b[0m, in \u001b[0;36mtweet_chain\u001b[1;34m(tweet, tweet_id)\u001b[0m\n\u001b[0;32m      1\u001b[0m \u001b[38;5;28;01mdef\u001b[39;00m \u001b[38;5;21mtweet_chain\u001b[39m(tweet \u001b[38;5;241m=\u001b[39m\u001b[38;5;28;01mNone\u001b[39;00m, tweet_id \u001b[38;5;241m=\u001b[39m \u001b[38;5;28;01mNone\u001b[39;00m):\n\u001b[0;32m      2\u001b[0m     \u001b[38;5;28;01mif\u001b[39;00m tweet_id \u001b[38;5;241m!=\u001b[39m\u001b[38;5;28;01mNone\u001b[39;00m \u001b[38;5;129;01mand\u001b[39;00m tweet \u001b[38;5;241m==\u001b[39m\u001b[38;5;28;01mNone\u001b[39;00m:\n\u001b[1;32m----> 3\u001b[0m         tweet \u001b[38;5;241m=\u001b[39m \u001b[43mapi\u001b[49m\u001b[38;5;241;43m.\u001b[39;49m\u001b[43mget_status\u001b[49m\u001b[43m(\u001b[49m\u001b[43mtweet_id\u001b[49m\u001b[43m)\u001b[49m\n\u001b[0;32m      4\u001b[0m     \u001b[38;5;28;01mif\u001b[39;00m tweet\u001b[38;5;241m.\u001b[39min_reply_to_status_id_str \u001b[38;5;241m!=\u001b[39m\u001b[38;5;28;01mNone\u001b[39;00m:\n\u001b[0;32m      5\u001b[0m         data \u001b[38;5;241m=\u001b[39m []\n",
      "File \u001b[1;32m~\\anaconda3\\envs\\webdev\\lib\\site-packages\\tweepy\\api.py:46\u001b[0m, in \u001b[0;36mpayload.<locals>.decorator.<locals>.wrapper\u001b[1;34m(*args, **kwargs)\u001b[0m\n\u001b[0;32m     44\u001b[0m kwargs[\u001b[38;5;124m'\u001b[39m\u001b[38;5;124mpayload_list\u001b[39m\u001b[38;5;124m'\u001b[39m] \u001b[38;5;241m=\u001b[39m payload_list\n\u001b[0;32m     45\u001b[0m kwargs[\u001b[38;5;124m'\u001b[39m\u001b[38;5;124mpayload_type\u001b[39m\u001b[38;5;124m'\u001b[39m] \u001b[38;5;241m=\u001b[39m payload_type\n\u001b[1;32m---> 46\u001b[0m \u001b[38;5;28;01mreturn\u001b[39;00m method(\u001b[38;5;241m*\u001b[39margs, \u001b[38;5;241m*\u001b[39m\u001b[38;5;241m*\u001b[39mkwargs)\n",
      "File \u001b[1;32m~\\anaconda3\\envs\\webdev\\lib\\site-packages\\tweepy\\api.py:902\u001b[0m, in \u001b[0;36mAPI.get_status\u001b[1;34m(self, id, **kwargs)\u001b[0m\n\u001b[0;32m    869\u001b[0m \u001b[38;5;129m@payload\u001b[39m(\u001b[38;5;124m'\u001b[39m\u001b[38;5;124mstatus\u001b[39m\u001b[38;5;124m'\u001b[39m)\n\u001b[0;32m    870\u001b[0m \u001b[38;5;28;01mdef\u001b[39;00m \u001b[38;5;21mget_status\u001b[39m(\u001b[38;5;28mself\u001b[39m, \u001b[38;5;28mid\u001b[39m, \u001b[38;5;241m*\u001b[39m\u001b[38;5;241m*\u001b[39mkwargs):\n\u001b[0;32m    871\u001b[0m     \u001b[38;5;124;03m\"\"\"get_status(id, *, trim_user, include_my_retweet, include_entities, \\\u001b[39;00m\n\u001b[0;32m    872\u001b[0m \u001b[38;5;124;03m                  include_ext_alt_text, include_card_uri)\u001b[39;00m\n\u001b[0;32m    873\u001b[0m \n\u001b[1;32m   (...)\u001b[0m\n\u001b[0;32m    900\u001b[0m \u001b[38;5;124;03m    https://developer.twitter.com/en/docs/twitter-api/v1/tweets/post-and-engage/api-reference/get-statuses-show-id\u001b[39;00m\n\u001b[0;32m    901\u001b[0m \u001b[38;5;124;03m    \"\"\"\u001b[39;00m\n\u001b[1;32m--> 902\u001b[0m     \u001b[38;5;28;01mreturn\u001b[39;00m \u001b[38;5;28mself\u001b[39m\u001b[38;5;241m.\u001b[39mrequest(\n\u001b[0;32m    903\u001b[0m         \u001b[38;5;124m'\u001b[39m\u001b[38;5;124mGET\u001b[39m\u001b[38;5;124m'\u001b[39m, \u001b[38;5;124m'\u001b[39m\u001b[38;5;124mstatuses/show\u001b[39m\u001b[38;5;124m'\u001b[39m, endpoint_parameters\u001b[38;5;241m=\u001b[39m(\n\u001b[0;32m    904\u001b[0m             \u001b[38;5;124m'\u001b[39m\u001b[38;5;124mid\u001b[39m\u001b[38;5;124m'\u001b[39m, \u001b[38;5;124m'\u001b[39m\u001b[38;5;124mtrim_user\u001b[39m\u001b[38;5;124m'\u001b[39m, \u001b[38;5;124m'\u001b[39m\u001b[38;5;124minclude_my_retweet\u001b[39m\u001b[38;5;124m'\u001b[39m, \u001b[38;5;124m'\u001b[39m\u001b[38;5;124minclude_entities\u001b[39m\u001b[38;5;124m'\u001b[39m,\n\u001b[0;32m    905\u001b[0m             \u001b[38;5;124m'\u001b[39m\u001b[38;5;124minclude_ext_alt_text\u001b[39m\u001b[38;5;124m'\u001b[39m, \u001b[38;5;124m'\u001b[39m\u001b[38;5;124minclude_card_uri\u001b[39m\u001b[38;5;124m'\u001b[39m\n\u001b[0;32m    906\u001b[0m         ), \u001b[38;5;28mid\u001b[39m\u001b[38;5;241m=\u001b[39m\u001b[38;5;28mid\u001b[39m, \u001b[38;5;241m*\u001b[39m\u001b[38;5;241m*\u001b[39mkwargs\n\u001b[0;32m    907\u001b[0m     )\n",
      "File \u001b[1;32m~\\anaconda3\\envs\\webdev\\lib\\site-packages\\tweepy\\api.py:269\u001b[0m, in \u001b[0;36mAPI.request\u001b[1;34m(self, method, endpoint, endpoint_parameters, params, headers, json_payload, parser, payload_list, payload_type, post_data, files, require_auth, return_cursors, upload_api, use_cache, **kwargs)\u001b[0m\n\u001b[0;32m    267\u001b[0m     \u001b[38;5;28;01mraise\u001b[39;00m NotFound(resp)\n\u001b[0;32m    268\u001b[0m \u001b[38;5;28;01mif\u001b[39;00m resp\u001b[38;5;241m.\u001b[39mstatus_code \u001b[38;5;241m==\u001b[39m \u001b[38;5;241m429\u001b[39m:\n\u001b[1;32m--> 269\u001b[0m     \u001b[38;5;28;01mraise\u001b[39;00m TooManyRequests(resp)\n\u001b[0;32m    270\u001b[0m \u001b[38;5;28;01mif\u001b[39;00m resp\u001b[38;5;241m.\u001b[39mstatus_code \u001b[38;5;241m>\u001b[39m\u001b[38;5;241m=\u001b[39m \u001b[38;5;241m500\u001b[39m:\n\u001b[0;32m    271\u001b[0m     \u001b[38;5;28;01mraise\u001b[39;00m TwitterServerError(resp)\n",
      "\u001b[1;31mTooManyRequests\u001b[0m: 429 Too Many Requests\n88 - Rate limit exceeded"
     ]
    }
   ],
   "source": [
    "cleaned_data = []\n",
    "for i in data:\n",
    "    cleaned_data.append(tweet_chain( tweet_id = i[0]) )    "
   ]
  },
  {
   "cell_type": "code",
   "execution_count": 199,
   "id": "f9c30aa8-1318-4539-8585-cfdb2ed3a5ad",
   "metadata": {},
   "outputs": [
    {
     "data": {
      "text/plain": [
       "['1601295071168458753',\n",
       " datetime.datetime(2022, 12, 9, 19, 17, 50, tzinfo=datetime.timezone.utc),\n",
       " 'Plinz',\n",
       " 'RT @Plinz: How does OpenAI create an AGI? – Simple, just train a transformer on the entire internet and filter out everything that would be…',\n",
       " 0,\n",
       " 6]"
      ]
     },
     "execution_count": 199,
     "metadata": {},
     "output_type": "execute_result"
    }
   ],
   "source": [
    "cleaned_data[0][0]"
   ]
  },
  {
   "cell_type": "code",
   "execution_count": 154,
   "id": "7e0ebbf7-92df-468c-8320-6b78ad236573",
   "metadata": {},
   "outputs": [
    {
     "ename": "IndexError",
     "evalue": "list index out of range",
     "output_type": "error",
     "traceback": [
      "\u001b[1;31m---------------------------------------------------------------------------\u001b[0m",
      "\u001b[1;31mIndexError\u001b[0m                                Traceback (most recent call last)",
      "Cell \u001b[1;32mIn [154], line 1\u001b[0m\n\u001b[1;32m----> 1\u001b[0m \u001b[38;5;28mlen\u001b[39m(\u001b[43mcleaned_data\u001b[49m\u001b[43m[\u001b[49m\u001b[38;5;241;43m10\u001b[39;49m\u001b[43m]\u001b[49m)\n",
      "\u001b[1;31mIndexError\u001b[0m: list index out of range"
     ]
    }
   ],
   "source": [
    "len(cleaned_data[10])"
   ]
  },
  {
   "cell_type": "code",
   "execution_count": 195,
   "id": "357ca423-47a8-4040-9dc7-d069c3dab1ec",
   "metadata": {},
   "outputs": [
    {
     "data": {
      "text/plain": [
       "[['1601142112204247040',\n",
       "  datetime.datetime(2022, 12, 9, 9, 10, 1, tzinfo=datetime.timezone.utc),\n",
       "  'Plinz',\n",
       "  '@ykilcher Meta basically advertised Galactica as SCIgen with transformers, people tried, and it was. Great paper, poor product market fit',\n",
       "  16,\n",
       "  3],\n",
       " ['1601141415211192326',\n",
       "  datetime.datetime(2022, 12, 9, 9, 7, 15, tzinfo=datetime.timezone.utc),\n",
       "  'ykilcher',\n",
       "  'I think this is much more about who released it, and how open the release was. All criticism of Galactica (i.e. OMG… https://t.co/MujexvE8vG',\n",
       "  90,\n",
       "  10]]"
      ]
     },
     "execution_count": 195,
     "metadata": {},
     "output_type": "execute_result"
    }
   ],
   "source": [
    "tweet_chain(tweet_id = data[2][0])"
   ]
  },
  {
   "cell_type": "code",
   "execution_count": 179,
   "id": "9a3d4d9e-2093-4749-bdae-fd2066de0cf5",
   "metadata": {},
   "outputs": [],
   "source": [
    "twt = api.get_status(\"1600716214359117824\")"
   ]
  },
  {
   "cell_type": "code",
   "execution_count": 182,
   "id": "f9961b86-2d09-487e-87b0-fb4f69e35032",
   "metadata": {},
   "outputs": [
    {
     "data": {
      "text/plain": [
       "2"
      ]
     },
     "execution_count": 182,
     "metadata": {},
     "output_type": "execute_result"
    }
   ],
   "source": [
    "twt.favorite_count"
   ]
  },
  {
   "cell_type": "code",
   "execution_count": 183,
   "id": "ab8960af-1e8a-40a6-928f-5c3e52032ad2",
   "metadata": {},
   "outputs": [
    {
     "data": {
      "text/plain": [
       "0"
      ]
     },
     "execution_count": 183,
     "metadata": {},
     "output_type": "execute_result"
    }
   ],
   "source": [
    "twt.retweet_count"
   ]
  },
  {
   "cell_type": "code",
   "execution_count": 89,
   "id": "bca8f858-26d1-4c45-95e3-254c80371b97",
   "metadata": {},
   "outputs": [
    {
     "data": {
      "text/plain": [
       "True"
      ]
     },
     "execution_count": 89,
     "metadata": {},
     "output_type": "execute_result"
    }
   ],
   "source": [
    "twt.in_reply_to_status_id_str==None"
   ]
  },
  {
   "cell_type": "code",
   "execution_count": 202,
   "id": "e710e8a7-e4b3-43a0-895c-cd768bf07cde",
   "metadata": {},
   "outputs": [
    {
     "data": {
      "text/plain": [
       "3278"
      ]
     },
     "execution_count": 202,
     "metadata": {},
     "output_type": "execute_result"
    }
   ],
   "source": [
    "len(data)"
   ]
  },
  {
   "cell_type": "code",
   "execution_count": 212,
   "id": "2bbb24ba-747f-46f2-b7f7-78d4ed0cc111",
   "metadata": {},
   "outputs": [],
   "source": [
    "with open(\"data.txt\", \"w\", encoding = \"utf-8\") as f:\n",
    "    for i in  data:\n",
    "        line =\" @@@@@ \".join( list(map( lambda x: str(x), i)))\n",
    "        f.write(line)\n",
    "        f.write(\"\\n\\n\")\n",
    "    \n",
    "    \n",
    "f.close()"
   ]
  },
  {
   "cell_type": "code",
   "execution_count": 211,
   "id": "869dc7be-1ee4-4f33-98df-03fafb9b36aa",
   "metadata": {},
   "outputs": [
    {
     "data": {
      "text/plain": [
       "'1601142112204247040 @@@@@ 2022-12-09 09:10:01+00:00 @@@@@ Plinz @@@@@ @ykilcher Meta basically advertised Galactica as SCIgen with transformers, people tried, and it was. Great paper, poor product market fit'"
      ]
     },
     "execution_count": 211,
     "metadata": {},
     "output_type": "execute_result"
    }
   ],
   "source": [
    "\" @@@@@ \".join( list(map( lambda x: str(x), i)))"
   ]
  },
  {
   "cell_type": "code",
   "execution_count": null,
   "id": "6ac613d4-b69c-4e42-ba81-d769ed066253",
   "metadata": {},
   "outputs": [],
   "source": []
  }
 ],
 "metadata": {
  "kernelspec": {
   "display_name": "Python 3 (ipykernel)",
   "language": "python",
   "name": "python3"
  },
  "language_info": {
   "codemirror_mode": {
    "name": "ipython",
    "version": 3
   },
   "file_extension": ".py",
   "mimetype": "text/x-python",
   "name": "python",
   "nbconvert_exporter": "python",
   "pygments_lexer": "ipython3",
   "version": "3.10.4"
  }
 },
 "nbformat": 4,
 "nbformat_minor": 5
}
